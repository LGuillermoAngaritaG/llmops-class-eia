{
 "cells": [
  {
   "cell_type": "markdown",
   "metadata": {},
   "source": [
    "# YouTube Video Summarizer using Groq\n",
    "\n",
    "This notebook demonstrates how to create a YouTube video summarizer that:\n",
    "1. Takes a YouTube URL as input\n",
    "2. Extracts the video's transcription\n",
    "3. Uses Groq to generate a concise summary\n",
    "\n",
    "## Setup and Requirements\n",
    "First, we'll install the required packages:"
   ]
  },
  {
   "cell_type": "code",
   "execution_count": 10,
   "metadata": {},
   "outputs": [],
   "source": [
    "!pip install youtube-transcript-api groq python-dotenv -q"
   ]
  },
  {
   "cell_type": "markdown",
   "metadata": {},
   "source": [
    "## Import Required Libraries"
   ]
  },
  {
   "cell_type": "code",
   "execution_count": 11,
   "metadata": {},
   "outputs": [],
   "source": [
    "from youtube_transcript_api import YouTubeTranscriptApi\n",
    "import groq\n",
    "import os\n",
    "from dotenv import load_dotenv\n",
    "from urllib.parse import urlparse, parse_qs\n",
    "\n",
    "# Load environment variables\n",
    "load_dotenv()\n",
    "\n",
    "groq_api_key = os.getenv('GROQ_API_KEY')  # Modify this to your API key\n",
    "\n",
    "# Initialize Groq client\n",
    "client = groq.Groq(\n",
    "    api_key=groq_api_key  # Put your API key here\n",
    ")"
   ]
  },
  {
   "cell_type": "markdown",
   "metadata": {},
   "source": [
    "## Helper Functions"
   ]
  },
  {
   "cell_type": "code",
   "execution_count": 12,
   "metadata": {},
   "outputs": [],
   "source": [
    "def extract_video_id(url):\n",
    "    \"\"\"Helper function to extract YouTube video ID from URL\"\"\"\n",
    "    parsed_url = urlparse(url)\n",
    "    if parsed_url.hostname == 'youtu.be':\n",
    "        return parsed_url.path[1:]\n",
    "    if parsed_url.hostname in ('www.youtube.com', 'youtube.com'):\n",
    "        if parsed_url.path == '/watch':\n",
    "            return parse_qs(parsed_url.query)['v'][0]\n",
    "    return None\n",
    "\n",
    "def get_transcript(video_id):\n",
    "    \"\"\"Helper function to get transcript for a YouTube video\"\"\"\n",
    "    try:\n",
    "        transcript_list = YouTubeTranscriptApi.get_transcript(video_id, languages=['en', 'es'])\n",
    "        return ' '.join([t['text'] for t in transcript_list])\n",
    "    except Exception as e:\n",
    "        print(f\"Error getting transcript: {e}\")\n",
    "        return None\n",
    "\n",
    "def summarize_text(text, language=\"spanish\"):\n",
    "    \"\"\"Summarize text using Groq\"\"\"\n",
    "    prompt = f\"\"\"Please provide a comprehensive summary of the following video transcript in {language}. \n",
    "    Focus on the main points, key insights, and important conclusions:\n",
    "\n",
    "    {text}\n",
    "\n",
    "    Please structure the summary with:\n",
    "    1. Main Topic/Theme\n",
    "    2. Key Points\n",
    "    3. Important Details\n",
    "    4. Conclusions\"\"\"\n",
    "\n",
    "    try:\n",
    "        completion = client.chat.completions.create(\n",
    "            model=\"llama-3.2-11b-vision-preview\",\n",
    "            messages=[\n",
    "                {\"role\": \"user\", \"content\": prompt}\n",
    "            ],\n",
    "            temperature=0.3,\n",
    "            max_tokens=2048\n",
    "        )\n",
    "        return completion.choices[0].message.content\n",
    "    except Exception as e:\n",
    "        print(f\"Error in summarization: {e}\")\n",
    "        return None"
   ]
  },
  {
   "cell_type": "markdown",
   "metadata": {},
   "source": [
    "## Main Function to Summarize YouTube Video"
   ]
  },
  {
   "cell_type": "code",
   "execution_count": 23,
   "metadata": {},
   "outputs": [],
   "source": [
    "def summarize_youtube_video(url, language=\"spanish\"):\n",
    "    \"\"\"Main function to summarize a YouTube video\"\"\"\n",
    "    # Extract video ID\n",
    "    video_id = extract_video_id(url)\n",
    "    if not video_id:\n",
    "        return \"Invalid YouTube URL\"\n",
    "    \n",
    "    # Get transcript\n",
    "    transcript = get_transcript(video_id)\n",
    "    transcript = transcript[:6000*4]\n",
    "    if not transcript:\n",
    "        return \"Could not retrieve transcript\"\n",
    "    \n",
    "    # Generate summary\n",
    "    summary = summarize_text(transcript, language)\n",
    "    if not summary:\n",
    "        return \"Could not generate summary\"\n",
    "    \n",
    "    return summary"
   ]
  },
  {
   "cell_type": "markdown",
   "metadata": {},
   "source": [
    "## Example Usage\n",
    "\n",
    "To use this summarizer, you'll need to:\n",
    "1. Create a `.env` file in the same directory as this notebook\n",
    "2. Add your Groq API key to the `.env` file: `GROQ_API_KEY=your_api_key_here`\n",
    "\n",
    "Then you can use the summarizer as shown below:"
   ]
  },
  {
   "cell_type": "code",
   "execution_count": 24,
   "metadata": {},
   "outputs": [
    {
     "name": "stdout",
     "output_type": "stream",
     "text": [
      "**1. Main Topic/Theme**\n",
      "\n",
      "La emergencia invernal en Colombia, específicamente en los departamentos de Chocó, Guajira, Santander y Bogotá, ha causado daños significativos y afectado a miles de personas.\n",
      "\n",
      "**2. Key Points**\n",
      "\n",
      "* La emergencia invernal ha causado daños en varios departamentos de Colombia, incluyendo Chocó, Guajira, Santander y Bogotá.\n",
      "* Miles de personas han sido afectadas, con algunas familias sin acceso a alimentos, agua potable y atención médica.\n",
      "* La falta de infraestructura y servicios básicos en algunas regiones ha agravado la situación.\n",
      "* La ayuda humanitaria ha sido lenta en llegar a algunas áreas, lo que ha generado preocupación y angustia entre los afectados.\n",
      "* La solidaridad de la comunidad colombiana ha sido notable, con donaciones y ayudas llegando a los afectados.\n",
      "\n",
      "**3. Important Details**\n",
      "\n",
      "* En el departamento de Chocó, 188.000 personas han sido afectadas, con 40.000 familias damnificadas.\n",
      "* En la alta Guajira, 192.000 personas han sido afectadas, con una sola aeronave llegando con ayudas humanitarias.\n",
      "* En Santander, más de 350 familias han resultado damnificadas por el desbordamiento de la quebrada Las Cruces.\n",
      "* En Bogotá, una avalancha en el barrio Las Delicias del Carmen ha afectado a varias viviendas y vehículos.\n",
      "* La alcaldía de San Vicente de Chucurí había solicitado ayuda para prevenir la avalancha que se registró en diciembre de 2023.\n",
      "\n",
      "**4. Conclusions**\n",
      "\n",
      "La emergencia invernal en Colombia ha causado daños significativos y afectado a miles de personas. La falta de infraestructura y servicios básicos en algunas regiones ha agravado la situación. Sin embargo, la solidaridad de la comunidad colombiana ha sido notable, con donaciones y ayudas llegando a los afectados. Es importante que se continúe trabajando para brindar ayuda y apoyo a las personas afectadas y que se tomen medidas para prevenir y mitigar futuras emergencias.\n"
     ]
    }
   ],
   "source": [
    "# Example usage\n",
    "youtube_url = \"https://www.youtube.com/watch?v=r5mEZCiXYN4&pp=ygUMZXBtIGNvbG9tYmlh\"\n",
    "language = \"spanish\"\n",
    "summary = summarize_youtube_video(youtube_url, language)\n",
    "print(summary)"
   ]
  },
  {
   "cell_type": "code",
   "execution_count": null,
   "metadata": {},
   "outputs": [],
   "source": []
  }
 ],
 "metadata": {
  "kernelspec": {
   "display_name": "Python 3",
   "language": "python",
   "name": "python3"
  },
  "language_info": {
   "codemirror_mode": {
    "name": "ipython",
    "version": 3
   },
   "file_extension": ".py",
   "mimetype": "text/x-python",
   "name": "python",
   "nbconvert_exporter": "python",
   "pygments_lexer": "ipython3",
   "version": "3.11.10"
  }
 },
 "nbformat": 4,
 "nbformat_minor": 4
}
