{
 "cells": [
  {
   "cell_type": "markdown",
   "metadata": {},
   "source": [
    "# YouTube Video Summarizer using Groq\n",
    "\n",
    "This notebook demonstrates how to create a YouTube video summarizer that:\n",
    "1. Takes a YouTube URL as input\n",
    "2. Extracts the video's transcription\n",
    "3. Uses Groq to generate a concise summary\n",
    "\n",
    "## Setup and Requirements\n",
    "First, we'll install the required packages:"
   ]
  },
  {
   "cell_type": "code",
   "execution_count": 1,
   "metadata": {},
   "outputs": [],
   "source": [
    "!pip install youtube-transcript-api groq python-dotenv -q"
   ]
  },
  {
   "cell_type": "markdown",
   "metadata": {},
   "source": [
    "## Import Required Libraries"
   ]
  },
  {
   "cell_type": "code",
   "execution_count": 2,
   "metadata": {},
   "outputs": [],
   "source": [
    "from youtube_transcript_api import YouTubeTranscriptApi\n",
    "import groq\n",
    "import os\n",
    "from dotenv import load_dotenv\n",
    "from urllib.parse import urlparse, parse_qs\n",
    "\n",
    "# Load environment variables\n",
    "load_dotenv()\n",
    "\n",
    "groq_api_key = os.getenv('GROQ_API_KEY')   # Modify this to your API key\n",
    "\n",
    "# Initialize Groq client\n",
    "client = groq.Groq(\n",
    "    api_key=groq_api_key  # Put your API key here\n",
    ")"
   ]
  },
  {
   "cell_type": "markdown",
   "metadata": {},
   "source": [
    "## Helper Functions"
   ]
  },
  {
   "cell_type": "code",
   "execution_count": 3,
   "metadata": {},
   "outputs": [],
   "source": [
    "def extract_video_id(url):\n",
    "    \"\"\"Helper function to extract YouTube video ID from URL\"\"\"\n",
    "    parsed_url = urlparse(url)\n",
    "    if parsed_url.hostname == 'youtu.be':\n",
    "        return parsed_url.path[1:]\n",
    "    if parsed_url.hostname in ('www.youtube.com', 'youtube.com'):\n",
    "        if parsed_url.path == '/watch':\n",
    "            return parse_qs(parsed_url.query)['v'][0]\n",
    "    return None\n",
    "\n",
    "def get_transcript(video_id):\n",
    "    \"\"\"Helper function to get transcript for a YouTube video\"\"\"\n",
    "    try:\n",
    "        transcript_list = YouTubeTranscriptApi.get_transcript(video_id, languages=['en', 'es'])\n",
    "        return ' '.join([t['text'] for t in transcript_list])\n",
    "    except Exception as e:\n",
    "        print(f\"Error getting transcript: {e}\")\n",
    "        return None\n",
    "\n",
    "def summarize_text(text, language=\"spanish\"):\n",
    "    \"\"\"Summarize text using Groq\"\"\"\n",
    "    prompt = f\"\"\"Please provide a comprehensive summary of the following video transcript in {language}. \n",
    "    Focus on the main points, key insights, and important conclusions:\n",
    "\n",
    "    {text}\n",
    "\n",
    "    Please structure the summary with:\n",
    "    1. Main Topic/Theme\n",
    "    2. Key Points\n",
    "    3. Important Details\n",
    "    4. Conclusions\"\"\"\n",
    "\n",
    "    try:\n",
    "        completion = client.chat.completions.create(\n",
    "            model=\"llama-3.2-11b-vision-preview\",\n",
    "            messages=[\n",
    "                {\"role\": \"user\", \"content\": prompt}\n",
    "            ],\n",
    "            temperature=0.3,\n",
    "            max_tokens=2048\n",
    "        )\n",
    "        return completion.choices[0].message.content\n",
    "    except Exception as e:\n",
    "        print(f\"Error in summarization: {e}\")\n",
    "        return None"
   ]
  },
  {
   "cell_type": "markdown",
   "metadata": {},
   "source": [
    "## Main Function to Summarize YouTube Video"
   ]
  },
  {
   "cell_type": "code",
   "execution_count": 4,
   "metadata": {},
   "outputs": [],
   "source": [
    "def summarize_youtube_video(url, language=\"spanish\"):\n",
    "    \"\"\"Main function to summarize a YouTube video\"\"\"\n",
    "    # Extract video ID\n",
    "    video_id = extract_video_id(url)\n",
    "    if not video_id:\n",
    "        return \"Invalid YouTube URL\"\n",
    "    \n",
    "    # Get transcript\n",
    "    transcript = get_transcript(video_id)\n",
    "    transcript = transcript[:6000*4]\n",
    "    if not transcript:\n",
    "        return \"Could not retrieve transcript\"\n",
    "    \n",
    "    # Generate summary\n",
    "    summary = summarize_text(transcript, language)\n",
    "    if not summary:\n",
    "        return \"Could not generate summary\"\n",
    "    \n",
    "    return summary"
   ]
  },
  {
   "cell_type": "markdown",
   "metadata": {},
   "source": [
    "## Example Usage\n",
    "\n",
    "To use this summarizer, you'll need to:\n",
    "1. Create a `.env` file in the same directory as this notebook\n",
    "2. Add your Groq API key to the `.env` file: `GROQ_API_KEY=your_api_key_here`\n",
    "\n",
    "Then you can use the summarizer as shown below:"
   ]
  },
  {
   "cell_type": "code",
   "execution_count": 5,
   "metadata": {},
   "outputs": [
    {
     "name": "stdout",
     "output_type": "stream",
     "text": [
      "**1. Main Topic/Theme**\n",
      "\n",
      "La noticia principal es la emergencia invernal en Colombia, específicamente en los departamentos de Chocó, Guajira y Santander, donde miles de personas han sido afectadas por las intensas lluvias y deslizamientos de tierra.\n",
      "\n",
      "**2. Key Points**\n",
      "\n",
      "* La emergencia invernal ha afectado a más de 400.000 personas en los departamentos de Chocó, Guajira y Santander.\n",
      "* Las lluvias han causado deslizamientos de tierra, inundaciones y daños a la infraestructura, lo que ha dejado a muchas familias sin hogar ni acceso a servicios básicos.\n",
      "* La falta de ayudas humanitarias y la incomunicación de algunas zonas han agravado la situación.\n",
      "* La Cruz Roja y otras organizaciones humanitarias están trabajando para brindar asistencia a los damnificados.\n",
      "* La solidaridad de los colombianos ha sido evidente, con donaciones de alimentos, medicamentos y otros artículos esenciales.\n",
      "\n",
      "**3. Important Details**\n",
      "\n",
      "* En el departamento de Chocó, la gobernadora Nivia Córdoba ha insistido en la necesidad de una respuesta más rápida y efectiva para atender a las familias afectadas.\n",
      "* En la alta Guajira, la falta de vías y la incomunicación han dificultado el acceso a las ayudas humanitarias, lo que ha agravado la situación de las comunidades afectadas.\n",
      "* En el municipio de San Vicente de Chucurí, la avalancha ha dejado a más de 350 familias damnificadas y sin acceso a servicios básicos, incluyendo agua potable.\n",
      "* La alcaldía de San Vicente de Chucurí había solicitado la unidad de gestión de riesgo cerca de 1.000 millones de pesos para prevenir la avalancha, pero no recibió la ayuda a tiempo.\n",
      "\n",
      "**4. Conclusions**\n",
      "\n",
      "La emergencia invernal en Colombia es una crisis humanitaria que requiere una respuesta rápida y efectiva para atender a las familias afectadas. La falta de ayudas humanitarias y la incomunicación de algunas zonas han agravado la situación, pero la solidaridad de los colombianos ha sido evidente. Es importante que se tomen medidas para prevenir futuras emergencias y que se brinde asistencia a las familias afectadas de manera oportuna y efectiva.\n"
     ]
    }
   ],
   "source": [
    "# Example usage\n",
    "youtube_url = \"https://www.youtube.com/watch?v=r5mEZCiXYN4&pp=ygUMZXBtIGNvbG9tYmlh\"\n",
    "language = \"spanish\"\n",
    "summary = summarize_youtube_video(youtube_url, language)\n",
    "print(summary)"
   ]
  },
  {
   "cell_type": "code",
   "execution_count": null,
   "metadata": {},
   "outputs": [],
   "source": []
  }
 ],
 "metadata": {
  "kernelspec": {
   "display_name": "Python 3",
   "language": "python",
   "name": "python3"
  },
  "language_info": {
   "codemirror_mode": {
    "name": "ipython",
    "version": 3
   },
   "file_extension": ".py",
   "mimetype": "text/x-python",
   "name": "python",
   "nbconvert_exporter": "python",
   "pygments_lexer": "ipython3",
   "version": "3.11.10"
  }
 },
 "nbformat": 4,
 "nbformat_minor": 4
}
