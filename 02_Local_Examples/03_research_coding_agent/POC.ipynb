{
 "cells": [
  {
   "cell_type": "markdown",
   "metadata": {},
   "source": [
    "# Agente: Ejemplo de un agente que hace uso de herramientas"
   ]
  },
  {
   "cell_type": "markdown",
   "metadata": {},
   "source": [
    "## Instalar las librerías necesarias\n"
   ]
  },
  {
   "cell_type": "code",
   "execution_count": null,
   "metadata": {},
   "outputs": [],
   "source": [
    "!pip install langchain langchain-groq langchain-experimental duckduckgo-search\n"
   ]
  },
  {
   "cell_type": "markdown",
   "metadata": {},
   "source": [
    "## Importar las librerías necesarias"
   ]
  },
  {
   "cell_type": "code",
   "execution_count": 1,
   "metadata": {},
   "outputs": [],
   "source": [
    "import os\n",
    "from dotenv import load_dotenv\n",
    "from langchain import hub\n",
    "from langchain.agents import Tool\n",
    "from langchain_groq import ChatGroq\n",
    "from langchain.agents import create_react_agent\n",
    "from langchain.agents.agent import AgentExecutor\n",
    "from langchain_experimental.utilities import PythonREPL\n",
    "from langchain_community.tools import DuckDuckGoSearchRun\n",
    "from langchain.tools import tool"
   ]
  },
  {
   "cell_type": "markdown",
   "metadata": {},
   "source": [
    "## Cargar variables de entorno\n"
   ]
  },
  {
   "cell_type": "code",
   "execution_count": 2,
   "metadata": {},
   "outputs": [
    {
     "data": {
      "text/plain": [
       "True"
      ]
     },
     "execution_count": 2,
     "metadata": {},
     "output_type": "execute_result"
    }
   ],
   "source": [
    "load_dotenv()"
   ]
  },
  {
   "cell_type": "markdown",
   "metadata": {},
   "source": [
    "## Definir el LLM"
   ]
  },
  {
   "cell_type": "code",
   "execution_count": 3,
   "metadata": {},
   "outputs": [],
   "source": [
    "groq_llm = ChatGroq(\n",
    "    api_key=os.getenv(\"GROQ_API_KEY\"),\n",
    "    model_name=\"llama-3.2-90b-vision-preview\",\n",
    "    temperature=0,\n",
    ")"
   ]
  },
  {
   "cell_type": "markdown",
   "metadata": {},
   "source": [
    "## Inicializar las herramientas"
   ]
  },
  {
   "cell_type": "code",
   "execution_count": 4,
   "metadata": {},
   "outputs": [],
   "source": [
    "python_repl = PythonREPL()\n",
    "search = DuckDuckGoSearchRun()"
   ]
  },
  {
   "cell_type": "markdown",
   "metadata": {},
   "source": [
    "## Crear la herramienta con el REPL para el agente"
   ]
  },
  {
   "cell_type": "code",
   "execution_count": 5,
   "metadata": {},
   "outputs": [],
   "source": [
    "repl_tool = Tool(\n",
    "    name=\"python_repl\",\n",
    "    description=\"A Python shell. Use this to execute python commands. Input should be a valid python command. If you want to see the output of a value, you should print it out with `print(...)`.\",\n",
    "    func=python_repl.run,\n",
    ")"
   ]
  },
  {
   "cell_type": "markdown",
   "metadata": {},
   "source": [
    "## Crear la herramienta de búsqueda para el agente"
   ]
  },
  {
   "cell_type": "code",
   "execution_count": 6,
   "metadata": {},
   "outputs": [],
   "source": [
    "search_tool = Tool(\n",
    "    name=\"search\",\n",
    "    description=\"Search the web for information\",\n",
    "    func=search.run,\n",
    ")"
   ]
  },
  {
   "cell_type": "markdown",
   "metadata": {},
   "source": [
    "## Creamos una herramienta personalizada para hacer poemas\n"
   ]
  },
  {
   "cell_type": "code",
   "execution_count": 26,
   "metadata": {},
   "outputs": [],
   "source": [
    "@tool\n",
    "def make_a_poem(topic: str) -> str:\n",
    "    \"\"\"Make a poem about a topic.\"\"\"\n",
    "    prompt = f\"Make a poem about {topic}\"\n",
    "    response = groq_llm.invoke(prompt)\n",
    "    return response.content\n"
   ]
  },
  {
   "cell_type": "markdown",
   "metadata": {},
   "source": [
    "## Importamos el prompt\n",
    "Usamos el prompt pre-definido para el agente react"
   ]
  },
  {
   "cell_type": "code",
   "execution_count": 8,
   "metadata": {},
   "outputs": [],
   "source": [
    "prompt = hub.pull(\"hwchase17/react\")"
   ]
  },
  {
   "cell_type": "markdown",
   "metadata": {},
   "source": [
    "## Creamos el agente react\n"
   ]
  },
  {
   "cell_type": "code",
   "execution_count": 27,
   "metadata": {},
   "outputs": [],
   "source": [
    "agent = create_react_agent(\n",
    "    llm=groq_llm,\n",
    "    tools=[repl_tool, search_tool, make_a_poem],\n",
    "    prompt=prompt,\n",
    ")"
   ]
  },
  {
   "cell_type": "markdown",
   "metadata": {},
   "source": [
    "## Creamos el executor del agente\n"
   ]
  },
  {
   "cell_type": "code",
   "execution_count": 28,
   "metadata": {},
   "outputs": [],
   "source": [
    "agent_executor = AgentExecutor(\n",
    "    agent=agent,\n",
    "    tools=[repl_tool, search_tool, make_a_poem],\n",
    "    max_iterations=5,\n",
    "    handle_parsing_errors=True,\n",
    "    verbose=True\n",
    ")"
   ]
  },
  {
   "cell_type": "markdown",
   "metadata": {},
   "source": [
    "## Función para ejecutar el agente\n"
   ]
  },
  {
   "cell_type": "code",
   "execution_count": 29,
   "metadata": {},
   "outputs": [],
   "source": [
    "def run_repl_agent(query):\n",
    "    response = agent_executor.invoke({\"input\": query})\n",
    "    return response[\"output\"]"
   ]
  },
  {
   "cell_type": "markdown",
   "metadata": {},
   "source": [
    "## Probamos el agente\n"
   ]
  },
  {
   "cell_type": "code",
   "execution_count": 30,
   "metadata": {},
   "outputs": [
    {
     "name": "stdout",
     "output_type": "stream",
     "text": [
      "\n",
      "\n",
      "\u001b[1m> Entering new AgentExecutor chain...\u001b[0m\n",
      "\u001b[32;1m\u001b[1;3mThought: I need to understand what the question is asking about \"love\". Is it a definition, a poem, or something else?\n",
      "\n",
      "Action: make_a_poem\n",
      "Action Input: love\u001b[0m\u001b[38;5;200m\u001b[1;3mSoft whispers in the night,\n",
      "A gentle touch, a loving light,\n",
      "Two hearts beating as one soul,\n",
      "In love's warm flame, they make their goal.\n",
      "\n",
      "With every kiss, a love so true,\n",
      "Their hearts entwined, forever new,\n",
      "In each other's eyes, they see,\n",
      "A love so strong, a love so free.\n",
      "\n",
      "The world outside may fade away,\n",
      "But in each other's love, they'll stay,\n",
      "Through laughter and through tears,\n",
      "Their love will last, through all the years.\n",
      "\n",
      "In love's sweet garden, they'll roam,\n",
      "Hand in hand, a love to call home,\n",
      "Their hearts forever entwined,\n",
      "A love so pure, a love so kind.\n",
      "\n",
      "So let love be the guiding light,\n",
      "That shines so bright, in the dark of night,\n",
      "For in love's warm and loving glow,\n",
      "Two hearts can beat, as one, forever to grow.\u001b[0m\u001b[32;1m\u001b[1;3mThought: The poem I generated is a beautiful representation of love, but I still don't know if this is what the question is asking for. I need to consider other possibilities, such as a definition of love.\n",
      "\n",
      "Action: search\n",
      "Action Input: definition of love\u001b[0m\u001b[33;1m\u001b[1;3mIn Buddhism, love is understood as a selfless, universal quality that serves as the foundation for compassion, joy in others' happiness, and equanimity. Together, these four qualities—loving-kindness (maitrī), compassion (karuṇā), sympathetic joy (mudita), and equanimity (upekṣā)—are known as the brahmavihara. Love is a set of emotions and behaviors characterized by intimacy, passion, and commitment. It involves care, closeness, protectiveness, attraction, affection, and trust. Many say it's not an emotion in the way we typically understand them, but an essential physiological drive. Love is a physiological motivation such as hunger, thirst, sleep ... Love is an emotion of strong affection for another based on various factors, such as kinship, companionship, admiration, or benevolence. Learn about the psychological, biological, and cultural aspects of love from Britannica's experts. How can we love our partners, our parents, sunsets at the beach, cats, and Fridays? The types of love listed here mean different things — but what remains is the certainty, at least for now, that what you love is what you adore. Love is an emotion of strong affection, tenderness, or devotion toward a subject or object. When you love a person, you experience pleasurable sensations in their presence and are sensitive about ...\u001b[0m\u001b[32;1m\u001b[1;3mThought: I now have a better understanding of what love is, including its definition and various aspects. However, I still don't know what the original question is asking for. Is it a definition, a poem, or something else?\n",
      "\n",
      "Action: None\n",
      "Thought: Since I have already generated a poem and found a definition, I will assume that the question is asking for either one of these. I will provide both as the final answer.\n",
      "\n",
      "Final Answer: Love is an emotion of strong affection, tenderness, or devotion toward a subject or object. It can be understood as a selfless, universal quality that serves as the foundation for compassion, joy in others' happiness, and equanimity. Here's a poem that represents love:\n",
      "\n",
      "Soft whispers in the night,\n",
      "A gentle touch, a loving light,\n",
      "Two hearts beating as one soul,\n",
      "In love's warm flame, they make their goal.\n",
      "\n",
      "With every kiss, a love so true,\n",
      "Their hearts entwined, forever new,\n",
      "In each other's eyes, they see,\n",
      "A love so strong, a love so free.\n",
      "\n",
      "The world outside may fade away,\n",
      "But in each other's love, they'll stay,\n",
      "Through laughter and through tears,\n",
      "Their love will last, through all the years.\n",
      "\n",
      "In love's sweet garden, they'll roam,\n",
      "Hand in hand, a love to call home,\n",
      "Their hearts forever entwined,\n",
      "A love so pure, a love so kind.\n",
      "\n",
      "So let love be the guiding light,\n",
      "That shines so bright, in the dark of night,\n",
      "For in love's warm and loving glow,\n",
      "Two hearts can beat, as one, forever to grow.\u001b[0m\n",
      "\n",
      "\u001b[1m> Finished chain.\u001b[0m\n",
      "Love is an emotion of strong affection, tenderness, or devotion toward a subject or object. It can be understood as a selfless, universal quality that serves as the foundation for compassion, joy in others' happiness, and equanimity. Here's a poem that represents love:\n",
      "\n",
      "Soft whispers in the night,\n",
      "A gentle touch, a loving light,\n",
      "Two hearts beating as one soul,\n",
      "In love's warm flame, they make their goal.\n",
      "\n",
      "With every kiss, a love so true,\n",
      "Their hearts entwined, forever new,\n",
      "In each other's eyes, they see,\n",
      "A love so strong, a love so free.\n",
      "\n",
      "The world outside may fade away,\n",
      "But in each other's love, they'll stay,\n",
      "Through laughter and through tears,\n",
      "Their love will last, through all the years.\n",
      "\n",
      "In love's sweet garden, they'll roam,\n",
      "Hand in hand, a love to call home,\n",
      "Their hearts forever entwined,\n",
      "A love so pure, a love so kind.\n",
      "\n",
      "So let love be the guiding light,\n",
      "That shines so bright, in the dark of night,\n",
      "For in love's warm and loving glow,\n",
      "Two hearts can beat, as one, forever to grow.\n"
     ]
    }
   ],
   "source": [
    "response = run_repl_agent(\"love\")\n",
    "print(response)"
   ]
  }
 ],
 "metadata": {
  "kernelspec": {
   "display_name": "Python 3",
   "language": "python",
   "name": "python3"
  },
  "language_info": {
   "codemirror_mode": {
    "name": "ipython",
    "version": 3
   },
   "file_extension": ".py",
   "mimetype": "text/x-python",
   "name": "python",
   "nbconvert_exporter": "python",
   "pygments_lexer": "ipython3",
   "version": "3.12.2"
  }
 },
 "nbformat": 4,
 "nbformat_minor": 2
}
